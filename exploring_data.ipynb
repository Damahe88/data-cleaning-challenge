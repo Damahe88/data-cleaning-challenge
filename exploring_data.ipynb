{
 "cells": [
  {
   "cell_type": "markdown",
   "source": [
    "## Exploration Notebook\n",
    "\n",
    "### Goal is to identify issues in the data set\n",
    "\n",
    "1. General Overview\n",
    "2. Inspect each column and identify possible solutions\n",
    "3. Summary of Identified Issues\n",
    "4. Implementation of reusable methods in seperate skripts"
   ],
   "metadata": {}
  },
  {
   "cell_type": "code",
   "execution_count": 3,
   "source": [
    "# Import libraries and data\n",
    "import pandas as pd\n",
    "raw_dataset = pd.read_csv(\"data/interview_signup.csv\", sep=',')\n"
   ],
   "outputs": [],
   "metadata": {}
  },
  {
   "cell_type": "markdown",
   "source": [
    "## 1. General Overview"
   ],
   "metadata": {}
  },
  {
   "cell_type": "code",
   "execution_count": 4,
   "source": [
    "raw_dataset.head()"
   ],
   "outputs": [
    {
     "output_type": "execute_result",
     "data": {
      "text/plain": [
       "  original_product_name postcode           bundesland  total_bonus  order_date\n",
       "0            E.ON STROM  53229.0  Nordrhein-Westfalen        146.0  2018-01-01\n",
       "1        E.ON STROM ÖKO  74235.0    Baden-Württemberg         67.0  2018-01-01\n",
       "2     E.ON STROM ÖKO 24  45257.0  Nordrhein-Westfalen        123.0  2018-01-01\n",
       "3            E.ON STROM  64395.0               Hessen        159.0  2018-01-01\n",
       "4         E.ON STROM 24  36039.0               Hessen        116.0  2018-01-01"
      ],
      "text/html": [
       "<div>\n",
       "<style scoped>\n",
       "    .dataframe tbody tr th:only-of-type {\n",
       "        vertical-align: middle;\n",
       "    }\n",
       "\n",
       "    .dataframe tbody tr th {\n",
       "        vertical-align: top;\n",
       "    }\n",
       "\n",
       "    .dataframe thead th {\n",
       "        text-align: right;\n",
       "    }\n",
       "</style>\n",
       "<table border=\"1\" class=\"dataframe\">\n",
       "  <thead>\n",
       "    <tr style=\"text-align: right;\">\n",
       "      <th></th>\n",
       "      <th>original_product_name</th>\n",
       "      <th>postcode</th>\n",
       "      <th>bundesland</th>\n",
       "      <th>total_bonus</th>\n",
       "      <th>order_date</th>\n",
       "    </tr>\n",
       "  </thead>\n",
       "  <tbody>\n",
       "    <tr>\n",
       "      <th>0</th>\n",
       "      <td>E.ON STROM</td>\n",
       "      <td>53229.0</td>\n",
       "      <td>Nordrhein-Westfalen</td>\n",
       "      <td>146.0</td>\n",
       "      <td>2018-01-01</td>\n",
       "    </tr>\n",
       "    <tr>\n",
       "      <th>1</th>\n",
       "      <td>E.ON STROM ÖKO</td>\n",
       "      <td>74235.0</td>\n",
       "      <td>Baden-Württemberg</td>\n",
       "      <td>67.0</td>\n",
       "      <td>2018-01-01</td>\n",
       "    </tr>\n",
       "    <tr>\n",
       "      <th>2</th>\n",
       "      <td>E.ON STROM ÖKO 24</td>\n",
       "      <td>45257.0</td>\n",
       "      <td>Nordrhein-Westfalen</td>\n",
       "      <td>123.0</td>\n",
       "      <td>2018-01-01</td>\n",
       "    </tr>\n",
       "    <tr>\n",
       "      <th>3</th>\n",
       "      <td>E.ON STROM</td>\n",
       "      <td>64395.0</td>\n",
       "      <td>Hessen</td>\n",
       "      <td>159.0</td>\n",
       "      <td>2018-01-01</td>\n",
       "    </tr>\n",
       "    <tr>\n",
       "      <th>4</th>\n",
       "      <td>E.ON STROM 24</td>\n",
       "      <td>36039.0</td>\n",
       "      <td>Hessen</td>\n",
       "      <td>116.0</td>\n",
       "      <td>2018-01-01</td>\n",
       "    </tr>\n",
       "  </tbody>\n",
       "</table>\n",
       "</div>"
      ]
     },
     "metadata": {},
     "execution_count": 4
    }
   ],
   "metadata": {}
  },
  {
   "cell_type": "code",
   "execution_count": 5,
   "source": [
    "raw_dataset.tail()"
   ],
   "outputs": [
    {
     "output_type": "execute_result",
     "data": {
      "text/plain": [
       "       original_product_name postcode         bundesland  total_bonus  \\\n",
       "318340         E.ON STROM 24    49610      Niedersachsen        147.0   \n",
       "318341            E.ON STROM   4916.0                NaN        142.0   \n",
       "318342            E.ON STROM  77972.0  Baden-Württemberg         48.0   \n",
       "318343     E.ON STROM ÖKO 24    91466             Bayern        238.0   \n",
       "318344        E.ON STROM PUR    88145             Bayern        125.0   \n",
       "\n",
       "        order_date  \n",
       "318340  2018-12-31  \n",
       "318341  2018-12-31  \n",
       "318342  2018-12-31  \n",
       "318343  2018-12-31  \n",
       "318344  2018-12-31  "
      ],
      "text/html": [
       "<div>\n",
       "<style scoped>\n",
       "    .dataframe tbody tr th:only-of-type {\n",
       "        vertical-align: middle;\n",
       "    }\n",
       "\n",
       "    .dataframe tbody tr th {\n",
       "        vertical-align: top;\n",
       "    }\n",
       "\n",
       "    .dataframe thead th {\n",
       "        text-align: right;\n",
       "    }\n",
       "</style>\n",
       "<table border=\"1\" class=\"dataframe\">\n",
       "  <thead>\n",
       "    <tr style=\"text-align: right;\">\n",
       "      <th></th>\n",
       "      <th>original_product_name</th>\n",
       "      <th>postcode</th>\n",
       "      <th>bundesland</th>\n",
       "      <th>total_bonus</th>\n",
       "      <th>order_date</th>\n",
       "    </tr>\n",
       "  </thead>\n",
       "  <tbody>\n",
       "    <tr>\n",
       "      <th>318340</th>\n",
       "      <td>E.ON STROM 24</td>\n",
       "      <td>49610</td>\n",
       "      <td>Niedersachsen</td>\n",
       "      <td>147.0</td>\n",
       "      <td>2018-12-31</td>\n",
       "    </tr>\n",
       "    <tr>\n",
       "      <th>318341</th>\n",
       "      <td>E.ON STROM</td>\n",
       "      <td>4916.0</td>\n",
       "      <td>NaN</td>\n",
       "      <td>142.0</td>\n",
       "      <td>2018-12-31</td>\n",
       "    </tr>\n",
       "    <tr>\n",
       "      <th>318342</th>\n",
       "      <td>E.ON STROM</td>\n",
       "      <td>77972.0</td>\n",
       "      <td>Baden-Württemberg</td>\n",
       "      <td>48.0</td>\n",
       "      <td>2018-12-31</td>\n",
       "    </tr>\n",
       "    <tr>\n",
       "      <th>318343</th>\n",
       "      <td>E.ON STROM ÖKO 24</td>\n",
       "      <td>91466</td>\n",
       "      <td>Bayern</td>\n",
       "      <td>238.0</td>\n",
       "      <td>2018-12-31</td>\n",
       "    </tr>\n",
       "    <tr>\n",
       "      <th>318344</th>\n",
       "      <td>E.ON STROM PUR</td>\n",
       "      <td>88145</td>\n",
       "      <td>Bayern</td>\n",
       "      <td>125.0</td>\n",
       "      <td>2018-12-31</td>\n",
       "    </tr>\n",
       "  </tbody>\n",
       "</table>\n",
       "</div>"
      ]
     },
     "metadata": {},
     "execution_count": 5
    }
   ],
   "metadata": {}
  },
  {
   "cell_type": "markdown",
   "source": [
    "### Explanation: Python already hints that there are mixes data types in the postcode columns. Decimal numbers already look suspicipus for postcodes. Also Null values appear in bundesland"
   ],
   "metadata": {}
  },
  {
   "cell_type": "code",
   "execution_count": 6,
   "source": [
    "#get basic info about data\n",
    "\n",
    "raw_dataset.info()"
   ],
   "outputs": [
    {
     "output_type": "stream",
     "name": "stdout",
     "text": [
      "<class 'pandas.core.frame.DataFrame'>\n",
      "RangeIndex: 318345 entries, 0 to 318344\n",
      "Data columns (total 5 columns):\n",
      " #   Column                 Non-Null Count   Dtype  \n",
      "---  ------                 --------------   -----  \n",
      " 0   original_product_name  318345 non-null  object \n",
      " 1   postcode               318345 non-null  object \n",
      " 2   bundesland             288813 non-null  object \n",
      " 3   total_bonus            318345 non-null  float64\n",
      " 4   order_date             318345 non-null  object \n",
      "dtypes: float64(1), object(4)\n",
      "memory usage: 12.1+ MB\n"
     ]
    }
   ],
   "metadata": {}
  },
  {
   "cell_type": "markdown",
   "source": [
    "### Explanation: Confirms Null values in 'bundesland' column. Rest do not seem to have missing values"
   ],
   "metadata": {}
  },
  {
   "cell_type": "code",
   "execution_count": 7,
   "source": [
    "# basic statistics to get a better overview\n",
    "raw_dataset.describe()"
   ],
   "outputs": [
    {
     "output_type": "execute_result",
     "data": {
      "text/plain": [
       "         total_bonus\n",
       "count  318345.000000\n",
       "mean      150.590275\n",
       "std        53.692176\n",
       "min         0.000000\n",
       "25%       112.000000\n",
       "50%       149.000000\n",
       "75%       182.000000\n",
       "max       570.000000"
      ],
      "text/html": [
       "<div>\n",
       "<style scoped>\n",
       "    .dataframe tbody tr th:only-of-type {\n",
       "        vertical-align: middle;\n",
       "    }\n",
       "\n",
       "    .dataframe tbody tr th {\n",
       "        vertical-align: top;\n",
       "    }\n",
       "\n",
       "    .dataframe thead th {\n",
       "        text-align: right;\n",
       "    }\n",
       "</style>\n",
       "<table border=\"1\" class=\"dataframe\">\n",
       "  <thead>\n",
       "    <tr style=\"text-align: right;\">\n",
       "      <th></th>\n",
       "      <th>total_bonus</th>\n",
       "    </tr>\n",
       "  </thead>\n",
       "  <tbody>\n",
       "    <tr>\n",
       "      <th>count</th>\n",
       "      <td>318345.000000</td>\n",
       "    </tr>\n",
       "    <tr>\n",
       "      <th>mean</th>\n",
       "      <td>150.590275</td>\n",
       "    </tr>\n",
       "    <tr>\n",
       "      <th>std</th>\n",
       "      <td>53.692176</td>\n",
       "    </tr>\n",
       "    <tr>\n",
       "      <th>min</th>\n",
       "      <td>0.000000</td>\n",
       "    </tr>\n",
       "    <tr>\n",
       "      <th>25%</th>\n",
       "      <td>112.000000</td>\n",
       "    </tr>\n",
       "    <tr>\n",
       "      <th>50%</th>\n",
       "      <td>149.000000</td>\n",
       "    </tr>\n",
       "    <tr>\n",
       "      <th>75%</th>\n",
       "      <td>182.000000</td>\n",
       "    </tr>\n",
       "    <tr>\n",
       "      <th>max</th>\n",
       "      <td>570.000000</td>\n",
       "    </tr>\n",
       "  </tbody>\n",
       "</table>\n",
       "</div>"
      ]
     },
     "metadata": {},
     "execution_count": 7
    }
   ],
   "metadata": {}
  },
  {
   "cell_type": "code",
   "execution_count": 8,
   "source": [
    "raw_dataset.describe(include=object)"
   ],
   "outputs": [
    {
     "output_type": "execute_result",
     "data": {
      "text/plain": [
       "       original_product_name  postcode           bundesland  order_date\n",
       "count                 318345  318345.0               288813      318345\n",
       "unique                    10   20525.0                   16         365\n",
       "top               E.ON STROM   31515.0  Nordrhein-Westfalen  2018-09-05\n",
       "freq                  164473     332.0                68541         960"
      ],
      "text/html": [
       "<div>\n",
       "<style scoped>\n",
       "    .dataframe tbody tr th:only-of-type {\n",
       "        vertical-align: middle;\n",
       "    }\n",
       "\n",
       "    .dataframe tbody tr th {\n",
       "        vertical-align: top;\n",
       "    }\n",
       "\n",
       "    .dataframe thead th {\n",
       "        text-align: right;\n",
       "    }\n",
       "</style>\n",
       "<table border=\"1\" class=\"dataframe\">\n",
       "  <thead>\n",
       "    <tr style=\"text-align: right;\">\n",
       "      <th></th>\n",
       "      <th>original_product_name</th>\n",
       "      <th>postcode</th>\n",
       "      <th>bundesland</th>\n",
       "      <th>order_date</th>\n",
       "    </tr>\n",
       "  </thead>\n",
       "  <tbody>\n",
       "    <tr>\n",
       "      <th>count</th>\n",
       "      <td>318345</td>\n",
       "      <td>318345.0</td>\n",
       "      <td>288813</td>\n",
       "      <td>318345</td>\n",
       "    </tr>\n",
       "    <tr>\n",
       "      <th>unique</th>\n",
       "      <td>10</td>\n",
       "      <td>20525.0</td>\n",
       "      <td>16</td>\n",
       "      <td>365</td>\n",
       "    </tr>\n",
       "    <tr>\n",
       "      <th>top</th>\n",
       "      <td>E.ON STROM</td>\n",
       "      <td>31515.0</td>\n",
       "      <td>Nordrhein-Westfalen</td>\n",
       "      <td>2018-09-05</td>\n",
       "    </tr>\n",
       "    <tr>\n",
       "      <th>freq</th>\n",
       "      <td>164473</td>\n",
       "      <td>332.0</td>\n",
       "      <td>68541</td>\n",
       "      <td>960</td>\n",
       "    </tr>\n",
       "  </tbody>\n",
       "</table>\n",
       "</div>"
      ]
     },
     "metadata": {},
     "execution_count": 8
    }
   ],
   "metadata": {}
  },
  {
   "cell_type": "markdown",
   "source": [
    "### Explanation: Order Date seems to be in order (365 unique values). Bundesland also seems ok. Reason for Null values still unclear"
   ],
   "metadata": {}
  },
  {
   "cell_type": "markdown",
   "source": [
    "## 2. Inspect each column and identify possible solutions"
   ],
   "metadata": {}
  },
  {
   "cell_type": "markdown",
   "source": [
    "## original product name"
   ],
   "metadata": {}
  },
  {
   "cell_type": "code",
   "execution_count": 9,
   "source": [
    "raw_dataset['original_product_name'].value_counts()"
   ],
   "outputs": [
    {
     "output_type": "execute_result",
     "data": {
      "text/plain": [
       "E.ON STROM                         164473\n",
       "E.ON STROM 24                       69363\n",
       "E.ON STROM ÖKO                      55194\n",
       "E.ON STROM ÖKO 24                   25440\n",
       "E.ON STROM PUR                       3650\n",
       "E.ON STROM Ã–KO                       206\n",
       "E.ON STROM 24 24                       14\n",
       "E.ON STROM 24 24 24                     2\n",
       "E.ON STROM 24 24 24 24 24 24 24         2\n",
       "E.ON STROM ÖO                           1\n",
       "Name: original_product_name, dtype: int64"
      ]
     },
     "metadata": {},
     "execution_count": 9
    }
   ],
   "metadata": {}
  },
  {
   "cell_type": "code",
   "execution_count": 10,
   "source": [
    "225/318345"
   ],
   "outputs": [
    {
     "output_type": "execute_result",
     "data": {
      "text/plain": [
       "0.0007067803797766574"
      ]
     },
     "metadata": {},
     "execution_count": 10
    }
   ],
   "metadata": {}
  },
  {
   "cell_type": "markdown",
   "source": [
    "### Explanation: Some names do not make sense. Needs to be dicussed with business and identified in Data Source system where the name come from. Since its only a very small percantage of data, <1%, these datapoints could be eliminated until the names are corrected"
   ],
   "metadata": {}
  },
  {
   "cell_type": "markdown",
   "source": [
    "## order_date"
   ],
   "metadata": {}
  },
  {
   "cell_type": "code",
   "execution_count": 11,
   "source": [
    "raw_dataset[(raw_dataset['order_date'] > '2018-12-31') | (raw_dataset['order_date'] < '2018-01-01')]"
   ],
   "outputs": [
    {
     "output_type": "execute_result",
     "data": {
      "text/plain": [
       "Empty DataFrame\n",
       "Columns: [original_product_name, postcode, bundesland, total_bonus, order_date]\n",
       "Index: []"
      ],
      "text/html": [
       "<div>\n",
       "<style scoped>\n",
       "    .dataframe tbody tr th:only-of-type {\n",
       "        vertical-align: middle;\n",
       "    }\n",
       "\n",
       "    .dataframe tbody tr th {\n",
       "        vertical-align: top;\n",
       "    }\n",
       "\n",
       "    .dataframe thead th {\n",
       "        text-align: right;\n",
       "    }\n",
       "</style>\n",
       "<table border=\"1\" class=\"dataframe\">\n",
       "  <thead>\n",
       "    <tr style=\"text-align: right;\">\n",
       "      <th></th>\n",
       "      <th>original_product_name</th>\n",
       "      <th>postcode</th>\n",
       "      <th>bundesland</th>\n",
       "      <th>total_bonus</th>\n",
       "      <th>order_date</th>\n",
       "    </tr>\n",
       "  </thead>\n",
       "  <tbody>\n",
       "  </tbody>\n",
       "</table>\n",
       "</div>"
      ]
     },
     "metadata": {},
     "execution_count": 11
    }
   ],
   "metadata": {}
  },
  {
   "cell_type": "markdown",
   "source": [
    "### Explanation: Seems to be in order. Nothing to clean"
   ],
   "metadata": {}
  },
  {
   "cell_type": "markdown",
   "source": [
    "## postcode and bundesland"
   ],
   "metadata": {}
  },
  {
   "cell_type": "code",
   "execution_count": 12,
   "source": [
    "raw_dataset[['postcode']]"
   ],
   "outputs": [
    {
     "output_type": "execute_result",
     "data": {
      "text/plain": [
       "       postcode\n",
       "0       53229.0\n",
       "1       74235.0\n",
       "2       45257.0\n",
       "3       64395.0\n",
       "4       36039.0\n",
       "...         ...\n",
       "318340    49610\n",
       "318341   4916.0\n",
       "318342  77972.0\n",
       "318343    91466\n",
       "318344    88145\n",
       "\n",
       "[318345 rows x 1 columns]"
      ],
      "text/html": [
       "<div>\n",
       "<style scoped>\n",
       "    .dataframe tbody tr th:only-of-type {\n",
       "        vertical-align: middle;\n",
       "    }\n",
       "\n",
       "    .dataframe tbody tr th {\n",
       "        vertical-align: top;\n",
       "    }\n",
       "\n",
       "    .dataframe thead th {\n",
       "        text-align: right;\n",
       "    }\n",
       "</style>\n",
       "<table border=\"1\" class=\"dataframe\">\n",
       "  <thead>\n",
       "    <tr style=\"text-align: right;\">\n",
       "      <th></th>\n",
       "      <th>postcode</th>\n",
       "    </tr>\n",
       "  </thead>\n",
       "  <tbody>\n",
       "    <tr>\n",
       "      <th>0</th>\n",
       "      <td>53229.0</td>\n",
       "    </tr>\n",
       "    <tr>\n",
       "      <th>1</th>\n",
       "      <td>74235.0</td>\n",
       "    </tr>\n",
       "    <tr>\n",
       "      <th>2</th>\n",
       "      <td>45257.0</td>\n",
       "    </tr>\n",
       "    <tr>\n",
       "      <th>3</th>\n",
       "      <td>64395.0</td>\n",
       "    </tr>\n",
       "    <tr>\n",
       "      <th>4</th>\n",
       "      <td>36039.0</td>\n",
       "    </tr>\n",
       "    <tr>\n",
       "      <th>...</th>\n",
       "      <td>...</td>\n",
       "    </tr>\n",
       "    <tr>\n",
       "      <th>318340</th>\n",
       "      <td>49610</td>\n",
       "    </tr>\n",
       "    <tr>\n",
       "      <th>318341</th>\n",
       "      <td>4916.0</td>\n",
       "    </tr>\n",
       "    <tr>\n",
       "      <th>318342</th>\n",
       "      <td>77972.0</td>\n",
       "    </tr>\n",
       "    <tr>\n",
       "      <th>318343</th>\n",
       "      <td>91466</td>\n",
       "    </tr>\n",
       "    <tr>\n",
       "      <th>318344</th>\n",
       "      <td>88145</td>\n",
       "    </tr>\n",
       "  </tbody>\n",
       "</table>\n",
       "<p>318345 rows × 1 columns</p>\n",
       "</div>"
      ]
     },
     "metadata": {},
     "execution_count": 12
    }
   ],
   "metadata": {}
  },
  {
   "cell_type": "markdown",
   "source": [
    "### Explanation: Value 318341 seems interesting. It is not quite clear if 4916.0 is the same as 49160 or if it is its own postcode 04916"
   ],
   "metadata": {}
  },
  {
   "cell_type": "code",
   "execution_count": 13,
   "source": [
    "# Further investigation of 4 and 5 digit postcodes. First get rid of the decimal \n",
    "\n",
    "postcodes_as_strings = raw_dataset['postcode'].astype('str')\n",
    "postcodes_without_decimal = [elem.split('.')[0]  if '.' in elem else elem for elem in postcodes_as_strings]\n",
    "raw_dataset['postcodes_without_decimal'] = postcodes_without_decimal\n",
    "raw_dataset.head()\n"
   ],
   "outputs": [
    {
     "output_type": "execute_result",
     "data": {
      "text/plain": [
       "  original_product_name postcode           bundesland  total_bonus  \\\n",
       "0            E.ON STROM  53229.0  Nordrhein-Westfalen        146.0   \n",
       "1        E.ON STROM ÖKO  74235.0    Baden-Württemberg         67.0   \n",
       "2     E.ON STROM ÖKO 24  45257.0  Nordrhein-Westfalen        123.0   \n",
       "3            E.ON STROM  64395.0               Hessen        159.0   \n",
       "4         E.ON STROM 24  36039.0               Hessen        116.0   \n",
       "\n",
       "   order_date postcodes_without_decimal  \n",
       "0  2018-01-01                     53229  \n",
       "1  2018-01-01                     74235  \n",
       "2  2018-01-01                     45257  \n",
       "3  2018-01-01                     64395  \n",
       "4  2018-01-01                     36039  "
      ],
      "text/html": [
       "<div>\n",
       "<style scoped>\n",
       "    .dataframe tbody tr th:only-of-type {\n",
       "        vertical-align: middle;\n",
       "    }\n",
       "\n",
       "    .dataframe tbody tr th {\n",
       "        vertical-align: top;\n",
       "    }\n",
       "\n",
       "    .dataframe thead th {\n",
       "        text-align: right;\n",
       "    }\n",
       "</style>\n",
       "<table border=\"1\" class=\"dataframe\">\n",
       "  <thead>\n",
       "    <tr style=\"text-align: right;\">\n",
       "      <th></th>\n",
       "      <th>original_product_name</th>\n",
       "      <th>postcode</th>\n",
       "      <th>bundesland</th>\n",
       "      <th>total_bonus</th>\n",
       "      <th>order_date</th>\n",
       "      <th>postcodes_without_decimal</th>\n",
       "    </tr>\n",
       "  </thead>\n",
       "  <tbody>\n",
       "    <tr>\n",
       "      <th>0</th>\n",
       "      <td>E.ON STROM</td>\n",
       "      <td>53229.0</td>\n",
       "      <td>Nordrhein-Westfalen</td>\n",
       "      <td>146.0</td>\n",
       "      <td>2018-01-01</td>\n",
       "      <td>53229</td>\n",
       "    </tr>\n",
       "    <tr>\n",
       "      <th>1</th>\n",
       "      <td>E.ON STROM ÖKO</td>\n",
       "      <td>74235.0</td>\n",
       "      <td>Baden-Württemberg</td>\n",
       "      <td>67.0</td>\n",
       "      <td>2018-01-01</td>\n",
       "      <td>74235</td>\n",
       "    </tr>\n",
       "    <tr>\n",
       "      <th>2</th>\n",
       "      <td>E.ON STROM ÖKO 24</td>\n",
       "      <td>45257.0</td>\n",
       "      <td>Nordrhein-Westfalen</td>\n",
       "      <td>123.0</td>\n",
       "      <td>2018-01-01</td>\n",
       "      <td>45257</td>\n",
       "    </tr>\n",
       "    <tr>\n",
       "      <th>3</th>\n",
       "      <td>E.ON STROM</td>\n",
       "      <td>64395.0</td>\n",
       "      <td>Hessen</td>\n",
       "      <td>159.0</td>\n",
       "      <td>2018-01-01</td>\n",
       "      <td>64395</td>\n",
       "    </tr>\n",
       "    <tr>\n",
       "      <th>4</th>\n",
       "      <td>E.ON STROM 24</td>\n",
       "      <td>36039.0</td>\n",
       "      <td>Hessen</td>\n",
       "      <td>116.0</td>\n",
       "      <td>2018-01-01</td>\n",
       "      <td>36039</td>\n",
       "    </tr>\n",
       "  </tbody>\n",
       "</table>\n",
       "</div>"
      ]
     },
     "metadata": {},
     "execution_count": 13
    }
   ],
   "metadata": {}
  },
  {
   "cell_type": "markdown",
   "source": [
    "### I am curious if there are postcodes that have a missing 'bundesland' and defined bundesland for postcode length 4"
   ],
   "metadata": {}
  },
  {
   "cell_type": "code",
   "execution_count": 14,
   "source": [
    "filtered_postcodes_with_four_digits = raw_dataset[(raw_dataset['bundesland'].isna() | raw_dataset['bundesland'].notna()) & (raw_dataset['postcodes_without_decimal'].str.len() == 4)]\n",
    "unique_postcode_bundeland_pairs = set(zip(filtered_postcodes_with_four_digits['postcodes_without_decimal'],filtered_postcodes_with_four_digits['bundesland']))\n",
    "#unique_postcode_bundeland_pairs\n"
   ],
   "outputs": [],
   "metadata": {}
  },
  {
   "cell_type": "markdown",
   "source": [
    "### Explanation: There are indeed 4 digit postcodes that habe a bundesland and also NAs. These can be matched to fill NAs. This can then also be done with 5 digits"
   ],
   "metadata": {}
  },
  {
   "cell_type": "markdown",
   "source": [
    "### The question remains if four digit postalcodes should all get a leading zero as they are their own 'zone' or if the decimal point seperated the postalcode "
   ],
   "metadata": {}
  },
  {
   "cell_type": "code",
   "execution_count": 15,
   "source": [
    "listOfShortCodes = list(raw_dataset[(raw_dataset['bundesland'].isna()) & (raw_dataset['postcodes_without_decimal'].str.len() == 4)]['postcodes_without_decimal'])\n",
    "listOfCorrectCodes = list(set(raw_dataset[(raw_dataset['bundesland'].isna()) & (raw_dataset['postcodes_without_decimal'].str.len() == 5)]['postcodes_without_decimal']))"
   ],
   "outputs": [],
   "metadata": {}
  },
  {
   "cell_type": "code",
   "execution_count": null,
   "source": [
    "# test with a regex expression if 4 digits codes appear in 5 digits codes with leading or tailing zeros. This could determine how postcodes can be cleaned\n",
    "import re\n",
    "\n",
    "for element in listOfShortCodes:\n",
    "    r = re.compile(\".*\"+element+\".*\")\n",
    "    print(element)\n",
    "    list_where_matched = list(filter(r.match, listOfCorrectCodes))\n",
    "    print(list_where_matched)"
   ],
   "outputs": [],
   "metadata": {}
  },
  {
   "cell_type": "markdown",
   "source": [
    "### Explanation: The comparision of 4 and 5 digit postal codes shows that we can not conclude that 4916.0 is equal to 49160. In contrast, a quick research of postcodes showed that the four digit codes with a leading 0 makes more sense (these are usualy zones in eastern germany). To be sure this needs to be confirmed in the data source, otherwise it will lead to wrong data points."
   ],
   "metadata": {}
  },
  {
   "cell_type": "markdown",
   "source": [
    "# 3. Summary of issues"
   ],
   "metadata": {}
  },
  {
   "cell_type": "markdown",
   "source": [
    "### I have identified several issues in the data. I decide to implement 2 methods. One will match NaN values in bundesland based on postcodes (if the postcode/bundesland combination already appeared). The second method will add a leading zero to postcodes so all codes have 5 digits."
   ],
   "metadata": {}
  },
  {
   "cell_type": "markdown",
   "source": [
    "# 4. Implementation"
   ],
   "metadata": {}
  },
  {
   "cell_type": "markdown",
   "source": [
    "### see src/cleaning_helpers.py\n",
    "\n",
    "### Validation"
   ],
   "metadata": {}
  },
  {
   "cell_type": "code",
   "execution_count": 23,
   "source": [
    "# Import helper functions\n",
    "\n",
    "from src.cleaning_helpers import clean_postcodes as cp\n",
    "from src.cleaning_helpers import match_postcodes_to_bundesland as mtb\n",
    "import pandas as pd\n"
   ],
   "outputs": [],
   "metadata": {}
  },
  {
   "cell_type": "code",
   "execution_count": 24,
   "source": [
    "# Constants\n",
    "\n",
    "DATA_PATH = 'data/interview_signup.csv'"
   ],
   "outputs": [],
   "metadata": {}
  },
  {
   "cell_type": "code",
   "execution_count": 26,
   "source": [
    "# Import data\n",
    "df = pd.read_csv(DATA_PATH, sep=',')\n"
   ],
   "outputs": [
    {
     "output_type": "stream",
     "name": "stderr",
     "text": [
      "/Users/admininistrator/eon.datachallenge/env/lib/python3.8/site-packages/IPython/core/interactiveshell.py:3441: DtypeWarning: Columns (1) have mixed types.Specify dtype option on import or set low_memory=False.\n",
      "  exec(code_obj, self.user_global_ns, self.user_ns)\n"
     ]
    }
   ],
   "metadata": {}
  },
  {
   "cell_type": "code",
   "execution_count": 27,
   "source": [
    "# Clean Postcodes\n",
    "\n",
    "df_cleaned_postcodes = cp(df)\n",
    "df_cleaned_postcodes"
   ],
   "outputs": [
    {
     "output_type": "execute_result",
     "data": {
      "text/plain": [
       "       original_product_name postcode           bundesland  total_bonus  \\\n",
       "0                 E.ON STROM    53229  Nordrhein-Westfalen        146.0   \n",
       "1             E.ON STROM ÖKO    74235    Baden-Württemberg         67.0   \n",
       "2          E.ON STROM ÖKO 24    45257  Nordrhein-Westfalen        123.0   \n",
       "3                 E.ON STROM    64395               Hessen        159.0   \n",
       "4              E.ON STROM 24    36039               Hessen        116.0   \n",
       "...                      ...      ...                  ...          ...   \n",
       "318340         E.ON STROM 24    49610        Niedersachsen        147.0   \n",
       "318341            E.ON STROM    04916                  NaN        142.0   \n",
       "318342            E.ON STROM    77972    Baden-Württemberg         48.0   \n",
       "318343     E.ON STROM ÖKO 24    91466               Bayern        238.0   \n",
       "318344        E.ON STROM PUR    88145               Bayern        125.0   \n",
       "\n",
       "        order_date  \n",
       "0       2018-01-01  \n",
       "1       2018-01-01  \n",
       "2       2018-01-01  \n",
       "3       2018-01-01  \n",
       "4       2018-01-01  \n",
       "...            ...  \n",
       "318340  2018-12-31  \n",
       "318341  2018-12-31  \n",
       "318342  2018-12-31  \n",
       "318343  2018-12-31  \n",
       "318344  2018-12-31  \n",
       "\n",
       "[318345 rows x 5 columns]"
      ],
      "text/html": [
       "<div>\n",
       "<style scoped>\n",
       "    .dataframe tbody tr th:only-of-type {\n",
       "        vertical-align: middle;\n",
       "    }\n",
       "\n",
       "    .dataframe tbody tr th {\n",
       "        vertical-align: top;\n",
       "    }\n",
       "\n",
       "    .dataframe thead th {\n",
       "        text-align: right;\n",
       "    }\n",
       "</style>\n",
       "<table border=\"1\" class=\"dataframe\">\n",
       "  <thead>\n",
       "    <tr style=\"text-align: right;\">\n",
       "      <th></th>\n",
       "      <th>original_product_name</th>\n",
       "      <th>postcode</th>\n",
       "      <th>bundesland</th>\n",
       "      <th>total_bonus</th>\n",
       "      <th>order_date</th>\n",
       "    </tr>\n",
       "  </thead>\n",
       "  <tbody>\n",
       "    <tr>\n",
       "      <th>0</th>\n",
       "      <td>E.ON STROM</td>\n",
       "      <td>53229</td>\n",
       "      <td>Nordrhein-Westfalen</td>\n",
       "      <td>146.0</td>\n",
       "      <td>2018-01-01</td>\n",
       "    </tr>\n",
       "    <tr>\n",
       "      <th>1</th>\n",
       "      <td>E.ON STROM ÖKO</td>\n",
       "      <td>74235</td>\n",
       "      <td>Baden-Württemberg</td>\n",
       "      <td>67.0</td>\n",
       "      <td>2018-01-01</td>\n",
       "    </tr>\n",
       "    <tr>\n",
       "      <th>2</th>\n",
       "      <td>E.ON STROM ÖKO 24</td>\n",
       "      <td>45257</td>\n",
       "      <td>Nordrhein-Westfalen</td>\n",
       "      <td>123.0</td>\n",
       "      <td>2018-01-01</td>\n",
       "    </tr>\n",
       "    <tr>\n",
       "      <th>3</th>\n",
       "      <td>E.ON STROM</td>\n",
       "      <td>64395</td>\n",
       "      <td>Hessen</td>\n",
       "      <td>159.0</td>\n",
       "      <td>2018-01-01</td>\n",
       "    </tr>\n",
       "    <tr>\n",
       "      <th>4</th>\n",
       "      <td>E.ON STROM 24</td>\n",
       "      <td>36039</td>\n",
       "      <td>Hessen</td>\n",
       "      <td>116.0</td>\n",
       "      <td>2018-01-01</td>\n",
       "    </tr>\n",
       "    <tr>\n",
       "      <th>...</th>\n",
       "      <td>...</td>\n",
       "      <td>...</td>\n",
       "      <td>...</td>\n",
       "      <td>...</td>\n",
       "      <td>...</td>\n",
       "    </tr>\n",
       "    <tr>\n",
       "      <th>318340</th>\n",
       "      <td>E.ON STROM 24</td>\n",
       "      <td>49610</td>\n",
       "      <td>Niedersachsen</td>\n",
       "      <td>147.0</td>\n",
       "      <td>2018-12-31</td>\n",
       "    </tr>\n",
       "    <tr>\n",
       "      <th>318341</th>\n",
       "      <td>E.ON STROM</td>\n",
       "      <td>04916</td>\n",
       "      <td>NaN</td>\n",
       "      <td>142.0</td>\n",
       "      <td>2018-12-31</td>\n",
       "    </tr>\n",
       "    <tr>\n",
       "      <th>318342</th>\n",
       "      <td>E.ON STROM</td>\n",
       "      <td>77972</td>\n",
       "      <td>Baden-Württemberg</td>\n",
       "      <td>48.0</td>\n",
       "      <td>2018-12-31</td>\n",
       "    </tr>\n",
       "    <tr>\n",
       "      <th>318343</th>\n",
       "      <td>E.ON STROM ÖKO 24</td>\n",
       "      <td>91466</td>\n",
       "      <td>Bayern</td>\n",
       "      <td>238.0</td>\n",
       "      <td>2018-12-31</td>\n",
       "    </tr>\n",
       "    <tr>\n",
       "      <th>318344</th>\n",
       "      <td>E.ON STROM PUR</td>\n",
       "      <td>88145</td>\n",
       "      <td>Bayern</td>\n",
       "      <td>125.0</td>\n",
       "      <td>2018-12-31</td>\n",
       "    </tr>\n",
       "  </tbody>\n",
       "</table>\n",
       "<p>318345 rows × 5 columns</p>\n",
       "</div>"
      ]
     },
     "metadata": {},
     "execution_count": 27
    }
   ],
   "metadata": {}
  },
  {
   "cell_type": "code",
   "execution_count": null,
   "source": [
    "# match missing bundeslaender\n",
    "\n",
    "df_matched_bundesland = mtb(df_cleaned_postcodes)\n",
    "df_matched_bundesland"
   ],
   "outputs": [],
   "metadata": {}
  },
  {
   "cell_type": "code",
   "execution_count": null,
   "source": [
    "df_matched_bundesland.isna().sum()"
   ],
   "outputs": [],
   "metadata": {}
  },
  {
   "cell_type": "code",
   "execution_count": null,
   "source": [
    "raw_dataset.isna().sum()"
   ],
   "outputs": [],
   "metadata": {}
  },
  {
   "cell_type": "markdown",
   "source": [
    "### About 7000 entries could be matched"
   ],
   "metadata": {}
  },
  {
   "cell_type": "markdown",
   "source": [],
   "metadata": {}
  }
 ],
 "metadata": {
  "interpreter": {
   "hash": "13dee6c129f48a055245377c7b5f16e48353d4e4402b36178c9d7a04a4d79911"
  },
  "kernelspec": {
   "display_name": "Python 3.8.3 64-bit ('env': venv)",
   "name": "python3"
  },
  "language_info": {
   "codemirror_mode": {
    "name": "ipython",
    "version": 3
   },
   "file_extension": ".py",
   "mimetype": "text/x-python",
   "name": "python",
   "nbconvert_exporter": "python",
   "pygments_lexer": "ipython3",
   "version": "3.8.3"
  },
  "orig_nbformat": 4
 },
 "nbformat": 4,
 "nbformat_minor": 2
}